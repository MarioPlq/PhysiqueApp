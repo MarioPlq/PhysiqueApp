{
 "cells": [
  {
   "cell_type": "code",
   "execution_count": 75,
   "metadata": {},
   "outputs": [
    {
     "name": "stdout",
     "output_type": "stream",
     "text": [
      "Patm à 1000m (Pa): 89874.79203066509\n",
      "h_AS: 1005.1\n",
      "h_eau_liq: 41920.0\n",
      "h_eau_liq: 42056.691663341735\n"
     ]
    }
   ],
   "source": [
    "from scipy import interpolate\n",
    "\n",
    "class genieClimatique:\n",
    "    \n",
    "    def __init__(self):\n",
    "        #J/kg/K\n",
    "        self.CpAS  = interpolate.interp1d([-20,-10,0,10,20,30,40,50],[1004,1005,1005,1006,1006,1007,1007,1008],fill_value='extrapolate')\n",
    "        self.CpEAU_liq = interpolate.interp1d([0,10,20,30,40,50],[4218,4192,4182,4178,4178,4181],fill_value='extrapolate')\n",
    "        pass\n",
    "            \n",
    "    #pression atomsphérique en Pa à l'altitude z en m\n",
    "    def Patm_f_z(self,alt=0): \n",
    "        return 1.19745e-8*(288.15-0.0065*alt)**5.25588\n",
    "    \n",
    "    #enthalpie air sec en J/kg avec T en °C\n",
    "    def enthalpie_AS(self,T):\n",
    "        return self.CpAS(T)*T\n",
    "    \n",
    "    #enthalpie eau liq à Patm en J/kg avec T en °C\n",
    "    def enthalpie_eau_liq(self,T,method='simple'):\n",
    "        if T<=0: return 'Error: not a liquid at Patm'\n",
    "        if method=='simple' :return self.CpEAU_liq(T)*T\n",
    "        if method=='complex':return T/(0.2374+4.015e-5*T-2.721e-7*T**2)*1000\n",
    "        \n",
    "        \n",
    "    \n",
    "gC=genieClimatique()\n",
    "print('Patm à 1000m (Pa):',gC.Patm_f_z(alt=1000))\n",
    "print('h_AS:',gC.enthalpie_AS(1))\n",
    "print('h_eau_liq:',gC.enthalpie_eau_liq(10,'simple' ))\n",
    "print('h_eau_liq:',gC.enthalpie_eau_liq(10,'complex'))\n",
    "        "
   ]
  },
  {
   "cell_type": "code",
   "execution_count": 53,
   "metadata": {},
   "outputs": [
    {
     "ename": "SyntaxError",
     "evalue": "invalid syntax (<ipython-input-53-d1020c085dff>, line 1)",
     "output_type": "error",
     "traceback": [
      "\u001b[1;36m  File \u001b[1;32m\"<ipython-input-53-d1020c085dff>\"\u001b[1;36m, line \u001b[1;32m1\u001b[0m\n\u001b[1;33m    f =\u001b[0m\n\u001b[1;37m        ^\u001b[0m\n\u001b[1;31mSyntaxError\u001b[0m\u001b[1;31m:\u001b[0m invalid syntax\n"
     ]
    }
   ],
   "source": [
    "\n",
    "\n",
    "\n",
    "\n",
    "f = \n",
    "\n",
    "print(f(1.5))"
   ]
  },
  {
   "cell_type": "code",
   "execution_count": null,
   "metadata": {},
   "outputs": [],
   "source": []
  }
 ],
 "metadata": {
  "kernelspec": {
   "display_name": "Python 3",
   "language": "python",
   "name": "python3"
  },
  "language_info": {
   "codemirror_mode": {
    "name": "ipython",
    "version": 3
   },
   "file_extension": ".py",
   "mimetype": "text/x-python",
   "name": "python",
   "nbconvert_exporter": "python",
   "pygments_lexer": "ipython3",
   "version": "3.8.5"
  }
 },
 "nbformat": 4,
 "nbformat_minor": 4
}
